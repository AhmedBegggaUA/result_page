{
 "cells": [
  {
   "cell_type": "code",
   "execution_count": 3,
   "metadata": {},
   "outputs": [
    {
     "name": "stderr",
     "output_type": "stream",
     "text": [
      "/var/folders/y7/1blltvf14qn2pwnxm884rdt00000gn/T/ipykernel_51867/887163945.py:23: FutureWarning:\n",
      "\n",
      "The default value of numeric_only in DataFrameGroupBy.mean is deprecated. In a future version, numeric_only will default to False. Either specify numeric_only or select only columns which should be valid for the function.\n",
      "\n",
      "/var/folders/y7/1blltvf14qn2pwnxm884rdt00000gn/T/ipykernel_51867/887163945.py:32: FutureWarning:\n",
      "\n",
      "The default value of numeric_only in DataFrameGroupBy.mean is deprecated. In a future version, numeric_only will default to False. Either specify numeric_only or select only columns which should be valid for the function.\n",
      "\n",
      "/var/folders/y7/1blltvf14qn2pwnxm884rdt00000gn/T/ipykernel_51867/887163945.py:40: FutureWarning:\n",
      "\n",
      "The default value of numeric_only in DataFrameGroupBy.mean is deprecated. In a future version, numeric_only will default to False. Either specify numeric_only or select only columns which should be valid for the function.\n",
      "\n",
      "/var/folders/y7/1blltvf14qn2pwnxm884rdt00000gn/T/ipykernel_51867/887163945.py:48: FutureWarning:\n",
      "\n",
      "The default value of numeric_only in DataFrameGroupBy.mean is deprecated. In a future version, numeric_only will default to False. Either specify numeric_only or select only columns which should be valid for the function.\n",
      "\n",
      "/var/folders/y7/1blltvf14qn2pwnxm884rdt00000gn/T/ipykernel_51867/887163945.py:56: FutureWarning:\n",
      "\n",
      "The default value of numeric_only in DataFrameGroupBy.mean is deprecated. In a future version, numeric_only will default to False. Either specify numeric_only or select only columns which should be valid for the function.\n",
      "\n"
     ]
    },
    {
     "data": {
      "application/vnd.plotly.v1+json": {
       "config": {
        "plotlyServerURL": "https://plot.ly"
       },
       "data": [
        {
         "line": {
          "color": "red",
          "width": 2
         },
         "name": "H7 & VacW SVIR",
         "type": "scatter",
         "x": [
          "2021-01-01T00:00:00",
          "2021-01-02T00:00:00",
          "2021-01-03T00:00:00",
          "2021-01-04T00:00:00",
          "2021-01-05T00:00:00",
          "2021-01-06T00:00:00",
          "2021-01-07T00:00:00",
          "2021-01-08T00:00:00",
          "2021-01-09T00:00:00",
          "2021-01-10T00:00:00",
          "2021-01-11T00:00:00",
          "2021-01-12T00:00:00",
          "2021-01-13T00:00:00",
          "2021-01-14T00:00:00",
          "2021-01-15T00:00:00",
          "2021-01-16T00:00:00",
          "2021-01-17T00:00:00",
          "2021-01-18T00:00:00",
          "2021-01-19T00:00:00",
          "2021-01-20T00:00:00",
          "2021-01-21T00:00:00",
          "2021-01-22T00:00:00",
          "2021-01-23T00:00:00",
          "2021-01-24T00:00:00",
          "2021-01-25T00:00:00",
          "2021-01-26T00:00:00",
          "2021-01-27T00:00:00",
          "2021-01-28T00:00:00",
          "2021-01-29T00:00:00",
          "2021-01-30T00:00:00",
          "2021-01-31T00:00:00"
         ],
         "y": [
          2771,
          1636,
          1121,
          6960,
          9276.2,
          11074.5,
          12584.142857142857,
          12736.857142857143,
          12763.142857142857,
          12767.714285714286,
          9271,
          9466.67857142857,
          6893.75,
          8970.142857142857,
          11748.142857142857,
          11826.42857142857,
          11808.857142857143,
          21229.821428571428,
          18827.714285714286,
          23945.35714285714,
          22152.678571428572,
          23470.821428571428,
          23294.678571428572,
          23294.678571428572,
          13873.714285714286,
          16214.5,
          15415.92857142857,
          16926.678571428572,
          16781.571428571428,
          16781.571428571428,
          16781.571428571428
         ]
        },
        {
         "line": {
          "color": "green",
          "width": 2
         },
         "name": "H7 & VacW SIR",
         "type": "scatter",
         "x": [
          "2021-01-01T00:00:00",
          "2021-01-02T00:00:00",
          "2021-01-03T00:00:00",
          "2021-01-04T00:00:00",
          "2021-01-05T00:00:00",
          "2021-01-06T00:00:00",
          "2021-01-07T00:00:00",
          "2021-01-08T00:00:00",
          "2021-01-09T00:00:00",
          "2021-01-10T00:00:00",
          "2021-01-11T00:00:00",
          "2021-01-12T00:00:00",
          "2021-01-13T00:00:00",
          "2021-01-14T00:00:00",
          "2021-01-15T00:00:00",
          "2021-01-16T00:00:00",
          "2021-01-17T00:00:00",
          "2021-01-18T00:00:00",
          "2021-01-19T00:00:00",
          "2021-01-20T00:00:00",
          "2021-01-21T00:00:00",
          "2021-01-22T00:00:00",
          "2021-01-23T00:00:00",
          "2021-01-24T00:00:00",
          "2021-01-25T00:00:00",
          "2021-01-26T00:00:00",
          "2021-01-27T00:00:00",
          "2021-01-28T00:00:00",
          "2021-01-29T00:00:00",
          "2021-01-30T00:00:00",
          "2021-01-31T00:00:00"
         ],
         "y": [
          727,
          659,
          586.6666666666666,
          9082.25,
          9679.6,
          10350.833333333334,
          10831.142857142857,
          10847.42857142857,
          10856.57142857143,
          10858.142857142857,
          5919.714285714285,
          7560.285714285715,
          7545.857142857143,
          7532,
          7517.428571428572,
          7500.571428571428,
          7484.428571428572,
          9881.714285714286,
          9389.285714285714,
          7445.571428571428,
          10822.42857142857,
          13466,
          13389.285714285714,
          13340.714285714286,
          10943.42857142857,
          10202.57142857143,
          10202.57142857143,
          9487,
          12251.285714285714,
          12251.285714285714,
          12251.285714285714
         ]
        },
        {
         "line": {
          "color": "blue",
          "width": 2
         },
         "name": "No H7 & VacW SVIR",
         "type": "scatter",
         "x": [
          "2021-01-01T00:00:00",
          "2021-01-02T00:00:00",
          "2021-01-03T00:00:00",
          "2021-01-04T00:00:00",
          "2021-01-05T00:00:00",
          "2021-01-06T00:00:00",
          "2021-01-07T00:00:00",
          "2021-01-08T00:00:00",
          "2021-01-09T00:00:00",
          "2021-01-10T00:00:00",
          "2021-01-11T00:00:00",
          "2021-01-12T00:00:00",
          "2021-01-13T00:00:00",
          "2021-01-14T00:00:00",
          "2021-01-15T00:00:00",
          "2021-01-16T00:00:00",
          "2021-01-17T00:00:00",
          "2021-01-18T00:00:00",
          "2021-01-19T00:00:00",
          "2021-01-20T00:00:00",
          "2021-01-21T00:00:00",
          "2021-01-22T00:00:00",
          "2021-01-23T00:00:00",
          "2021-01-24T00:00:00",
          "2021-01-25T00:00:00",
          "2021-01-26T00:00:00",
          "2021-01-27T00:00:00",
          "2021-01-28T00:00:00",
          "2021-01-29T00:00:00",
          "2021-01-30T00:00:00",
          "2021-01-31T00:00:00"
         ],
         "y": [
          6300,
          4192.5,
          3025.6666666666665,
          8442.25,
          11208.8,
          13350.666666666666,
          15147.285714285714,
          15451.42857142857,
          15545.285714285714,
          15574.285714285714,
          12046.857142857143,
          11182.57142857143,
          8310.857142857143,
          9195.75,
          10983.42857142857,
          10801.42857142857,
          10673.57142857143,
          20753.75,
          18435.89285714286,
          23423.178571428572,
          21119.85714285714,
          22699.89285714286,
          22490.178571428572,
          22490.178571428572,
          12410,
          14878.42857142857,
          13399.357142857143,
          15484.464285714286,
          14870.285714285714,
          14870.285714285714,
          14870.285714285714
         ]
        },
        {
         "line": {
          "color": "purple",
          "width": 2
         },
         "name": "No H7 & VacW SIR",
         "type": "scatter",
         "x": [
          "2021-01-01T00:00:00",
          "2021-01-02T00:00:00",
          "2021-01-03T00:00:00",
          "2021-01-04T00:00:00",
          "2021-01-05T00:00:00",
          "2021-01-06T00:00:00",
          "2021-01-07T00:00:00",
          "2021-01-08T00:00:00",
          "2021-01-09T00:00:00",
          "2021-01-10T00:00:00",
          "2021-01-11T00:00:00",
          "2021-01-12T00:00:00",
          "2021-01-13T00:00:00",
          "2021-01-14T00:00:00",
          "2021-01-15T00:00:00",
          "2021-01-16T00:00:00",
          "2021-01-17T00:00:00",
          "2021-01-18T00:00:00",
          "2021-01-19T00:00:00",
          "2021-01-20T00:00:00",
          "2021-01-21T00:00:00",
          "2021-01-22T00:00:00",
          "2021-01-23T00:00:00",
          "2021-01-24T00:00:00",
          "2021-01-25T00:00:00",
          "2021-01-26T00:00:00",
          "2021-01-27T00:00:00",
          "2021-01-28T00:00:00",
          "2021-01-29T00:00:00",
          "2021-01-30T00:00:00",
          "2021-01-31T00:00:00"
         ],
         "y": [
          780,
          821,
          862.3333333333334,
          7618.5,
          8542.4,
          9471.666666666666,
          10190.285714285714,
          10369.57142857143,
          10557.285714285714,
          10752.142857142857,
          6768.285714285715,
          7742.428571428572,
          7955.428571428572,
          8172.285714285715,
          8391.857142857143,
          8619.285714285714,
          8854.714285714286,
          8854.714285714286,
          8104.142857142857,
          5874.285714285715,
          8213,
          9942.714285714286,
          9404.42857142857,
          8839.142857142857,
          8839.142857142857,
          8085.285714285715,
          8085.285714285715,
          7374.714285714285,
          10497.285714285714,
          10497.285714285714,
          10497.285714285714
         ]
        },
        {
         "line": {
          "color": "black",
          "width": 2
         },
         "name": "XPrize",
         "type": "scatter",
         "x": [
          "2021-01-01T00:00:00",
          "2021-01-02T00:00:00",
          "2021-01-03T00:00:00",
          "2021-01-04T00:00:00",
          "2021-01-05T00:00:00",
          "2021-01-06T00:00:00",
          "2021-01-07T00:00:00",
          "2021-01-08T00:00:00",
          "2021-01-09T00:00:00",
          "2021-01-10T00:00:00",
          "2021-01-11T00:00:00",
          "2021-01-12T00:00:00",
          "2021-01-13T00:00:00",
          "2021-01-14T00:00:00",
          "2021-01-15T00:00:00",
          "2021-01-16T00:00:00",
          "2021-01-17T00:00:00",
          "2021-01-18T00:00:00",
          "2021-01-19T00:00:00",
          "2021-01-20T00:00:00",
          "2021-01-21T00:00:00",
          "2021-01-22T00:00:00",
          "2021-01-23T00:00:00",
          "2021-01-24T00:00:00",
          "2021-01-25T00:00:00",
          "2021-01-26T00:00:00",
          "2021-01-27T00:00:00",
          "2021-01-28T00:00:00",
          "2021-01-29T00:00:00",
          "2021-01-30T00:00:00",
          "2021-01-31T00:00:00"
         ],
         "y": [
          0,
          0,
          0,
          6115.25,
          6340.6,
          7732.333333333333,
          8618,
          8618,
          8618,
          8618,
          5123.571428571428,
          7125.535714285715,
          5026.821428571428,
          9521.857142857143,
          12211.464285714286,
          12211.464285714286,
          12211.464285714286,
          19633.85714285714,
          20914.464285714286,
          26949.60714285714,
          26235,
          29878.964285714286,
          30495.678571428572,
          30556.39285714286,
          23134,
          22725.928571428572,
          21344.928571428572,
          20519.10714285714,
          19509.071428571428,
          18944.5,
          18883.785714285714
         ]
        },
        {
         "line": {
          "color": "orange",
          "dash": "dash",
          "width": 4
         },
         "name": "Ground Truth Daily New Cases",
         "type": "scatter",
         "x": [
          "2021-01-01T00:00:00",
          "2021-01-02T00:00:00",
          "2021-01-03T00:00:00",
          "2021-01-04T00:00:00",
          "2021-01-05T00:00:00",
          "2021-01-06T00:00:00",
          "2021-01-07T00:00:00",
          "2021-01-08T00:00:00",
          "2021-01-09T00:00:00",
          "2021-01-10T00:00:00",
          "2021-01-11T00:00:00",
          "2021-01-12T00:00:00",
          "2021-01-13T00:00:00",
          "2021-01-14T00:00:00",
          "2021-01-15T00:00:00",
          "2021-01-16T00:00:00",
          "2021-01-17T00:00:00",
          "2021-01-18T00:00:00",
          "2021-01-19T00:00:00",
          "2021-01-20T00:00:00",
          "2021-01-21T00:00:00",
          "2021-01-22T00:00:00",
          "2021-01-23T00:00:00",
          "2021-01-24T00:00:00",
          "2021-01-25T00:00:00",
          "2021-01-26T00:00:00",
          "2021-01-27T00:00:00",
          "2021-01-28T00:00:00",
          "2021-01-29T00:00:00",
          "2021-01-30T00:00:00",
          "2021-01-31T00:00:00"
         ],
         "y": [
          18046,
          9023,
          6015.333333333333,
          4511.5,
          9724.8,
          12053.5,
          10331.57142857143,
          13805,
          17441.571428571428,
          17441.571428571428,
          17441.571428571428,
          21847.714285714286,
          22096.285714285714,
          27649,
          26722.714285714286,
          28828.428571428572,
          28828.428571428572,
          28828.428571428572,
          32094.85714285714,
          33360,
          33747.28571428572,
          34958.42857142857,
          35342.42857142857,
          35342.42857142857,
          35342.42857142857,
          36705,
          37011,
          36825.71428571428,
          35475.142857142855,
          34793.857142857145,
          34793.857142857145
         ]
        }
       ],
       "layout": {
        "template": {
         "data": {
          "bar": [
           {
            "error_x": {
             "color": "#2a3f5f"
            },
            "error_y": {
             "color": "#2a3f5f"
            },
            "marker": {
             "line": {
              "color": "#E5ECF6",
              "width": 0.5
             },
             "pattern": {
              "fillmode": "overlay",
              "size": 10,
              "solidity": 0.2
             }
            },
            "type": "bar"
           }
          ],
          "barpolar": [
           {
            "marker": {
             "line": {
              "color": "#E5ECF6",
              "width": 0.5
             },
             "pattern": {
              "fillmode": "overlay",
              "size": 10,
              "solidity": 0.2
             }
            },
            "type": "barpolar"
           }
          ],
          "carpet": [
           {
            "aaxis": {
             "endlinecolor": "#2a3f5f",
             "gridcolor": "white",
             "linecolor": "white",
             "minorgridcolor": "white",
             "startlinecolor": "#2a3f5f"
            },
            "baxis": {
             "endlinecolor": "#2a3f5f",
             "gridcolor": "white",
             "linecolor": "white",
             "minorgridcolor": "white",
             "startlinecolor": "#2a3f5f"
            },
            "type": "carpet"
           }
          ],
          "choropleth": [
           {
            "colorbar": {
             "outlinewidth": 0,
             "ticks": ""
            },
            "type": "choropleth"
           }
          ],
          "contour": [
           {
            "colorbar": {
             "outlinewidth": 0,
             "ticks": ""
            },
            "colorscale": [
             [
              0,
              "#0d0887"
             ],
             [
              0.1111111111111111,
              "#46039f"
             ],
             [
              0.2222222222222222,
              "#7201a8"
             ],
             [
              0.3333333333333333,
              "#9c179e"
             ],
             [
              0.4444444444444444,
              "#bd3786"
             ],
             [
              0.5555555555555556,
              "#d8576b"
             ],
             [
              0.6666666666666666,
              "#ed7953"
             ],
             [
              0.7777777777777778,
              "#fb9f3a"
             ],
             [
              0.8888888888888888,
              "#fdca26"
             ],
             [
              1,
              "#f0f921"
             ]
            ],
            "type": "contour"
           }
          ],
          "contourcarpet": [
           {
            "colorbar": {
             "outlinewidth": 0,
             "ticks": ""
            },
            "type": "contourcarpet"
           }
          ],
          "heatmap": [
           {
            "colorbar": {
             "outlinewidth": 0,
             "ticks": ""
            },
            "colorscale": [
             [
              0,
              "#0d0887"
             ],
             [
              0.1111111111111111,
              "#46039f"
             ],
             [
              0.2222222222222222,
              "#7201a8"
             ],
             [
              0.3333333333333333,
              "#9c179e"
             ],
             [
              0.4444444444444444,
              "#bd3786"
             ],
             [
              0.5555555555555556,
              "#d8576b"
             ],
             [
              0.6666666666666666,
              "#ed7953"
             ],
             [
              0.7777777777777778,
              "#fb9f3a"
             ],
             [
              0.8888888888888888,
              "#fdca26"
             ],
             [
              1,
              "#f0f921"
             ]
            ],
            "type": "heatmap"
           }
          ],
          "heatmapgl": [
           {
            "colorbar": {
             "outlinewidth": 0,
             "ticks": ""
            },
            "colorscale": [
             [
              0,
              "#0d0887"
             ],
             [
              0.1111111111111111,
              "#46039f"
             ],
             [
              0.2222222222222222,
              "#7201a8"
             ],
             [
              0.3333333333333333,
              "#9c179e"
             ],
             [
              0.4444444444444444,
              "#bd3786"
             ],
             [
              0.5555555555555556,
              "#d8576b"
             ],
             [
              0.6666666666666666,
              "#ed7953"
             ],
             [
              0.7777777777777778,
              "#fb9f3a"
             ],
             [
              0.8888888888888888,
              "#fdca26"
             ],
             [
              1,
              "#f0f921"
             ]
            ],
            "type": "heatmapgl"
           }
          ],
          "histogram": [
           {
            "marker": {
             "pattern": {
              "fillmode": "overlay",
              "size": 10,
              "solidity": 0.2
             }
            },
            "type": "histogram"
           }
          ],
          "histogram2d": [
           {
            "colorbar": {
             "outlinewidth": 0,
             "ticks": ""
            },
            "colorscale": [
             [
              0,
              "#0d0887"
             ],
             [
              0.1111111111111111,
              "#46039f"
             ],
             [
              0.2222222222222222,
              "#7201a8"
             ],
             [
              0.3333333333333333,
              "#9c179e"
             ],
             [
              0.4444444444444444,
              "#bd3786"
             ],
             [
              0.5555555555555556,
              "#d8576b"
             ],
             [
              0.6666666666666666,
              "#ed7953"
             ],
             [
              0.7777777777777778,
              "#fb9f3a"
             ],
             [
              0.8888888888888888,
              "#fdca26"
             ],
             [
              1,
              "#f0f921"
             ]
            ],
            "type": "histogram2d"
           }
          ],
          "histogram2dcontour": [
           {
            "colorbar": {
             "outlinewidth": 0,
             "ticks": ""
            },
            "colorscale": [
             [
              0,
              "#0d0887"
             ],
             [
              0.1111111111111111,
              "#46039f"
             ],
             [
              0.2222222222222222,
              "#7201a8"
             ],
             [
              0.3333333333333333,
              "#9c179e"
             ],
             [
              0.4444444444444444,
              "#bd3786"
             ],
             [
              0.5555555555555556,
              "#d8576b"
             ],
             [
              0.6666666666666666,
              "#ed7953"
             ],
             [
              0.7777777777777778,
              "#fb9f3a"
             ],
             [
              0.8888888888888888,
              "#fdca26"
             ],
             [
              1,
              "#f0f921"
             ]
            ],
            "type": "histogram2dcontour"
           }
          ],
          "mesh3d": [
           {
            "colorbar": {
             "outlinewidth": 0,
             "ticks": ""
            },
            "type": "mesh3d"
           }
          ],
          "parcoords": [
           {
            "line": {
             "colorbar": {
              "outlinewidth": 0,
              "ticks": ""
             }
            },
            "type": "parcoords"
           }
          ],
          "pie": [
           {
            "automargin": true,
            "type": "pie"
           }
          ],
          "scatter": [
           {
            "fillpattern": {
             "fillmode": "overlay",
             "size": 10,
             "solidity": 0.2
            },
            "type": "scatter"
           }
          ],
          "scatter3d": [
           {
            "line": {
             "colorbar": {
              "outlinewidth": 0,
              "ticks": ""
             }
            },
            "marker": {
             "colorbar": {
              "outlinewidth": 0,
              "ticks": ""
             }
            },
            "type": "scatter3d"
           }
          ],
          "scattercarpet": [
           {
            "marker": {
             "colorbar": {
              "outlinewidth": 0,
              "ticks": ""
             }
            },
            "type": "scattercarpet"
           }
          ],
          "scattergeo": [
           {
            "marker": {
             "colorbar": {
              "outlinewidth": 0,
              "ticks": ""
             }
            },
            "type": "scattergeo"
           }
          ],
          "scattergl": [
           {
            "marker": {
             "colorbar": {
              "outlinewidth": 0,
              "ticks": ""
             }
            },
            "type": "scattergl"
           }
          ],
          "scattermapbox": [
           {
            "marker": {
             "colorbar": {
              "outlinewidth": 0,
              "ticks": ""
             }
            },
            "type": "scattermapbox"
           }
          ],
          "scatterpolar": [
           {
            "marker": {
             "colorbar": {
              "outlinewidth": 0,
              "ticks": ""
             }
            },
            "type": "scatterpolar"
           }
          ],
          "scatterpolargl": [
           {
            "marker": {
             "colorbar": {
              "outlinewidth": 0,
              "ticks": ""
             }
            },
            "type": "scatterpolargl"
           }
          ],
          "scatterternary": [
           {
            "marker": {
             "colorbar": {
              "outlinewidth": 0,
              "ticks": ""
             }
            },
            "type": "scatterternary"
           }
          ],
          "surface": [
           {
            "colorbar": {
             "outlinewidth": 0,
             "ticks": ""
            },
            "colorscale": [
             [
              0,
              "#0d0887"
             ],
             [
              0.1111111111111111,
              "#46039f"
             ],
             [
              0.2222222222222222,
              "#7201a8"
             ],
             [
              0.3333333333333333,
              "#9c179e"
             ],
             [
              0.4444444444444444,
              "#bd3786"
             ],
             [
              0.5555555555555556,
              "#d8576b"
             ],
             [
              0.6666666666666666,
              "#ed7953"
             ],
             [
              0.7777777777777778,
              "#fb9f3a"
             ],
             [
              0.8888888888888888,
              "#fdca26"
             ],
             [
              1,
              "#f0f921"
             ]
            ],
            "type": "surface"
           }
          ],
          "table": [
           {
            "cells": {
             "fill": {
              "color": "#EBF0F8"
             },
             "line": {
              "color": "white"
             }
            },
            "header": {
             "fill": {
              "color": "#C8D4E3"
             },
             "line": {
              "color": "white"
             }
            },
            "type": "table"
           }
          ]
         },
         "layout": {
          "annotationdefaults": {
           "arrowcolor": "#2a3f5f",
           "arrowhead": 0,
           "arrowwidth": 1
          },
          "autotypenumbers": "strict",
          "coloraxis": {
           "colorbar": {
            "outlinewidth": 0,
            "ticks": ""
           }
          },
          "colorscale": {
           "diverging": [
            [
             0,
             "#8e0152"
            ],
            [
             0.1,
             "#c51b7d"
            ],
            [
             0.2,
             "#de77ae"
            ],
            [
             0.3,
             "#f1b6da"
            ],
            [
             0.4,
             "#fde0ef"
            ],
            [
             0.5,
             "#f7f7f7"
            ],
            [
             0.6,
             "#e6f5d0"
            ],
            [
             0.7,
             "#b8e186"
            ],
            [
             0.8,
             "#7fbc41"
            ],
            [
             0.9,
             "#4d9221"
            ],
            [
             1,
             "#276419"
            ]
           ],
           "sequential": [
            [
             0,
             "#0d0887"
            ],
            [
             0.1111111111111111,
             "#46039f"
            ],
            [
             0.2222222222222222,
             "#7201a8"
            ],
            [
             0.3333333333333333,
             "#9c179e"
            ],
            [
             0.4444444444444444,
             "#bd3786"
            ],
            [
             0.5555555555555556,
             "#d8576b"
            ],
            [
             0.6666666666666666,
             "#ed7953"
            ],
            [
             0.7777777777777778,
             "#fb9f3a"
            ],
            [
             0.8888888888888888,
             "#fdca26"
            ],
            [
             1,
             "#f0f921"
            ]
           ],
           "sequentialminus": [
            [
             0,
             "#0d0887"
            ],
            [
             0.1111111111111111,
             "#46039f"
            ],
            [
             0.2222222222222222,
             "#7201a8"
            ],
            [
             0.3333333333333333,
             "#9c179e"
            ],
            [
             0.4444444444444444,
             "#bd3786"
            ],
            [
             0.5555555555555556,
             "#d8576b"
            ],
            [
             0.6666666666666666,
             "#ed7953"
            ],
            [
             0.7777777777777778,
             "#fb9f3a"
            ],
            [
             0.8888888888888888,
             "#fdca26"
            ],
            [
             1,
             "#f0f921"
            ]
           ]
          },
          "colorway": [
           "#636efa",
           "#EF553B",
           "#00cc96",
           "#ab63fa",
           "#FFA15A",
           "#19d3f3",
           "#FF6692",
           "#B6E880",
           "#FF97FF",
           "#FECB52"
          ],
          "font": {
           "color": "#2a3f5f"
          },
          "geo": {
           "bgcolor": "white",
           "lakecolor": "white",
           "landcolor": "#E5ECF6",
           "showlakes": true,
           "showland": true,
           "subunitcolor": "white"
          },
          "hoverlabel": {
           "align": "left"
          },
          "hovermode": "closest",
          "mapbox": {
           "style": "light"
          },
          "paper_bgcolor": "white",
          "plot_bgcolor": "#E5ECF6",
          "polar": {
           "angularaxis": {
            "gridcolor": "white",
            "linecolor": "white",
            "ticks": ""
           },
           "bgcolor": "#E5ECF6",
           "radialaxis": {
            "gridcolor": "white",
            "linecolor": "white",
            "ticks": ""
           }
          },
          "scene": {
           "xaxis": {
            "backgroundcolor": "#E5ECF6",
            "gridcolor": "white",
            "gridwidth": 2,
            "linecolor": "white",
            "showbackground": true,
            "ticks": "",
            "zerolinecolor": "white"
           },
           "yaxis": {
            "backgroundcolor": "#E5ECF6",
            "gridcolor": "white",
            "gridwidth": 2,
            "linecolor": "white",
            "showbackground": true,
            "ticks": "",
            "zerolinecolor": "white"
           },
           "zaxis": {
            "backgroundcolor": "#E5ECF6",
            "gridcolor": "white",
            "gridwidth": 2,
            "linecolor": "white",
            "showbackground": true,
            "ticks": "",
            "zerolinecolor": "white"
           }
          },
          "shapedefaults": {
           "line": {
            "color": "#2a3f5f"
           }
          },
          "ternary": {
           "aaxis": {
            "gridcolor": "white",
            "linecolor": "white",
            "ticks": ""
           },
           "baxis": {
            "gridcolor": "white",
            "linecolor": "white",
            "ticks": ""
           },
           "bgcolor": "#E5ECF6",
           "caxis": {
            "gridcolor": "white",
            "linecolor": "white",
            "ticks": ""
           }
          },
          "title": {
           "x": 0.05
          },
          "xaxis": {
           "automargin": true,
           "gridcolor": "white",
           "linecolor": "white",
           "ticks": "",
           "title": {
            "standoff": 15
           },
           "zerolinecolor": "white",
           "zerolinewidth": 2
          },
          "yaxis": {
           "automargin": true,
           "gridcolor": "white",
           "linecolor": "white",
           "ticks": "",
           "title": {
            "standoff": 15
           },
           "zerolinecolor": "white",
           "zerolinewidth": 2
          }
         }
        }
       }
      }
     },
     "metadata": {},
     "output_type": "display_data"
    }
   ],
   "source": [
    "import pandas as pd\n",
    "import numpy as np\n",
    "import plotly.graph_objects as go\n",
    "import plotly.express as px\n",
    "country2 = 'Spain'\n",
    "h7_waning = pd.read_csv('last_pred/h7_waning_pred.csv')\n",
    "h7_casos = pd.read_csv('last_pred/h7_casos_pred.csv')\n",
    "none_waning = pd.read_csv('last_pred/none_waning_pred.csv')\n",
    "none_casos = pd.read_csv('last_pred/none_casos_pred.csv')\n",
    "xprize = pd.read_csv('last_pred/xprizes_pred.csv')\n",
    "\n",
    "h7_waning_europe = pd.read_csv('last_pred/h7_waning_europe.csv')\n",
    "h7_waning_none_europe = pd.read_csv('last_pred/h7_waning_none_europe.csv')\n",
    "h7_waning_xprize_europe = pd.read_csv('last_pred/h7_waning_xprize_europe.csv')\n",
    "# Drop duplicated rows\n",
    "months_list_short = ['2021-01','2021-02','2021-03','2021-04','2021-05']\n",
    "idx = 0\n",
    "if country2 != 'Europe':\n",
    "    h7_waning = h7_waning[h7_waning['CountryName'] == country2]\n",
    "    h7_waning['fecha'] = pd.to_datetime(h7_waning['fecha'])\n",
    "    h7_waning['month'] = h7_waning['fecha'].dt.strftime('%Y-%m')\n",
    "    h7_waning = h7_waning[h7_waning['month'] == months_list_short[idx]]\n",
    "    h7_waning = h7_waning.groupby(['CountryName','fecha']).mean().reset_index()\n",
    "    h7_waning['pred'] = h7_waning['pred'].rolling(window=7, min_periods=1).mean()\n",
    "    h7_waning['pred_sir'] = h7_waning['pred_sir'].rolling(window=7, min_periods=1).mean()\n",
    "    h7_waning['truth'] = h7_waning['truth'].rolling(window=7, min_periods=1).mean()\n",
    "    \n",
    "    h7_casos = h7_casos[h7_casos['CountryName'] == country2]\n",
    "    h7_casos['fecha'] = pd.to_datetime(h7_casos['fecha'])\n",
    "    h7_casos['month'] = h7_casos['fecha'].dt.strftime('%Y-%m')\n",
    "    h7_casos = h7_casos[h7_casos['month'] == months_list_short[idx]]\n",
    "    h7_casos = h7_casos.groupby(['CountryName','fecha']).mean().reset_index()\n",
    "    h7_casos['pred'] = h7_casos['pred'].rolling(window=7, min_periods=1).mean()\n",
    "    h7_casos['pred_sir'] = h7_casos['pred_sir'].rolling(window=7, min_periods=1).mean()\n",
    "    \n",
    "    none_waning = none_waning[none_waning['CountryName'] == country2]\n",
    "    none_waning['fecha'] = pd.to_datetime(none_waning['fecha'])\n",
    "    none_waning['month'] = none_waning['fecha'].dt.strftime('%Y-%m')\n",
    "    none_waning = none_waning[none_waning['month'] == months_list_short[idx]]\n",
    "    none_waning = none_waning.groupby(['CountryName','fecha']).mean().reset_index()\n",
    "    none_waning['pred'] = none_waning['pred'].rolling(window=7, min_periods=1).mean()\n",
    "    none_waning['pred_sir'] = none_waning['pred_sir'].rolling(window=7, min_periods=1).mean()\n",
    "    \n",
    "    none_casos = none_casos[none_casos['CountryName'] == country2]\n",
    "    none_casos['fecha'] = pd.to_datetime(none_casos['fecha'])\n",
    "    none_casos['month'] = none_casos['fecha'].dt.strftime('%Y-%m')\n",
    "    none_casos = none_casos[none_casos['month'] == months_list_short[idx]]\n",
    "    none_casos = none_casos.groupby(['CountryName','fecha']).mean().reset_index()\n",
    "    none_casos['pred'] = none_casos['pred'].rolling(window=7, min_periods=1).mean()\n",
    "    none_casos['pred_sir'] = none_casos['pred_sir'].rolling(window=7, min_periods=1).mean()\n",
    "    \n",
    "    xprize = xprize[xprize['CountryName'] == country2]\n",
    "    xprize['fecha'] = pd.to_datetime(xprize['fecha'])\n",
    "    xprize['month'] = xprize['fecha'].dt.strftime('%Y-%m')\n",
    "    xprize = xprize[xprize['month'] == months_list_short[idx]]\n",
    "    xprize = xprize.groupby(['CountryName','fecha']).mean().reset_index()\n",
    "    xprize['pred'] = xprize['pred'].rolling(window=7, min_periods=1).mean()\n",
    "    xprize['pred_sir'] = xprize['pred_sir'].rolling(window=7, min_periods=1).mean()\n",
    "    \n",
    "    fig = go.Figure()\n",
    "    fig.add_trace(go.Scatter(x = h7_waning['fecha'], y = h7_waning['pred'], name = \"H7 & VacW SVIR\", line = dict(color = 'red', width = 2)))\n",
    "    fig.add_trace(go.Scatter(x = h7_waning['fecha'], y = h7_waning['pred_sir'], name = \"H7 & VacW SIR\", line = dict(color = 'green', width = 2)))\n",
    "    fig.add_trace(go.Scatter(x = none_waning['fecha'], y = none_waning['pred'], name = \"No H7 & VacW SVIR\", line = dict(color = 'blue', width = 2)))\n",
    "    fig.add_trace(go.Scatter(x = none_waning['fecha'], y = none_waning['pred_sir'], name = \"No H7 & VacW SIR\", line = dict(color = 'purple', width = 2)))\n",
    "    fig.add_trace(go.Scatter(x = xprize['fecha'], y = xprize['pred'], name = \"XPrize\", line = dict(color = 'black', width = 2)))\n",
    "    fig.add_trace(go.Scatter(x = h7_waning['fecha'], y = h7_waning['truth'], name = \"Ground Truth Daily New Cases\", line = dict(color = 'orange', width = 4, dash = 'dash')))\n",
    "    fig.show()"
   ]
  }
 ],
 "metadata": {
  "kernelspec": {
   "display_name": "linegraph",
   "language": "python",
   "name": "python3"
  },
  "language_info": {
   "codemirror_mode": {
    "name": "ipython",
    "version": 3
   },
   "file_extension": ".py",
   "mimetype": "text/x-python",
   "name": "python",
   "nbconvert_exporter": "python",
   "pygments_lexer": "ipython3",
   "version": "3.10.6"
  },
  "orig_nbformat": 4
 },
 "nbformat": 4,
 "nbformat_minor": 2
}
